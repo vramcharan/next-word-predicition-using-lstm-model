{
 "cells": [
  {
   "cell_type": "code",
   "execution_count": 1,
   "id": "12efa4b9",
   "metadata": {},
   "outputs": [],
   "source": [
    "import numpy as np\n",
    "import tensorflow as tf\n",
    "from tensorflow.keras.preprocessing.text import Tokenizer\n",
    "from tensorflow.keras.preprocessing.sequence import pad_sequences\n",
    "from tensorflow.keras.models import Sequential\n",
    "from tensorflow.keras.layers import Embedding, LSTM, Dense\n",
    "\n",
    "# Read the text file\n",
    "with open('sherlock-holm.es_stories_plain-text_advs.txt', 'r', encoding='utf-8') as file:\n",
    "    text = file.read()"
   ]
  },
  {
   "cell_type": "markdown",
   "id": "bb724b1f",
   "metadata": {},
   "source": [
    "Now let’s tokenize the text to create a sequence of words:"
   ]
  },
  {
   "cell_type": "code",
   "execution_count": 2,
   "id": "9f395c88",
   "metadata": {},
   "outputs": [],
   "source": [
    "tokenizer = Tokenizer()\n",
    "tokenizer.fit_on_texts([text])\n",
    "total_words = len(tokenizer.word_index) + 1"
   ]
  },
  {
   "cell_type": "markdown",
   "id": "017337e0",
   "metadata": {},
   "source": [
    "- In the above code, the text is tokenized, which means it is divided into individual words or tokens. The ‘Tokenizer’ object is created, which will handle the tokenization process. \n",
    "- The ‘fit_on_texts’ method of the tokenizer is called, passing the ‘text’ as input. This method analyzes the text and builds a vocabulary of unique words, assigning each word a numerical index.\n",
    "- The ‘total_words’ variable is then assigned the value of the length of the word index plus one, representing the total number of distinct words in the text.\n",
    "\n",
    "\n",
    "Now let’s create input-output pairs by splitting the text into sequences of tokens and forming n-grams from the sequences:"
   ]
  },
  {
   "cell_type": "code",
   "execution_count": 3,
   "id": "6806f231",
   "metadata": {},
   "outputs": [],
   "source": [
    "input_sequences = []\n",
    "for line in text.split('\\n'):\n",
    "    token_list = tokenizer.texts_to_sequences([line])[0]\n",
    "    for i in range(1, len(token_list)):\n",
    "        n_gram_sequence = token_list[:i+1]\n",
    "        input_sequences.append(n_gram_sequence)"
   ]
  },
  {
   "cell_type": "markdown",
   "id": "2f85a367",
   "metadata": {},
   "source": [
    "- In the above code, the text data is split into lines using the ‘\\n’ character as a delimiter. \n",
    "- For each line in the text, the ‘texts_to_sequences’ method of the tokenizer is used to convert the line into a sequence of numerical tokens based on the previously created vocabulary. \n",
    "- The resulting token list is then iterated over using a for loop. For each iteration, a subsequence, or n-gram, of tokens is extracted, ranging from the beginning of the token list up to the current index ‘i’.\n",
    "\n",
    "\n",
    "\n",
    "- This n-gram sequence represents the input context, with the last token being the target or predicted word. \n",
    "- This n-gram sequence is then appended to the ‘input_sequences’ list. \n",
    "- This process is repeated for all lines in the text, generating multiple input-output sequences that will be used for training the next word prediction model.\n",
    "\n",
    "Now let’s pad the input sequences to have equal length:"
   ]
  },
  {
   "cell_type": "code",
   "execution_count": 4,
   "id": "648c00e3",
   "metadata": {},
   "outputs": [],
   "source": [
    "max_sequence_len = max([len(seq) for seq in input_sequences])\n",
    "input_sequences = np.array(pad_sequences(input_sequences, maxlen=max_sequence_len, padding='pre'))"
   ]
  },
  {
   "cell_type": "markdown",
   "id": "b08d05df",
   "metadata": {},
   "source": [
    "- In the above code, the input sequences are padded to ensure all sequences have the same length. \n",
    "- The variable ‘max_sequence_len’ is assigned the maximum length among all the input sequences. \n",
    "- The ‘pad_sequences’ function is used to pad or truncate the input sequences to match this maximum length.\n",
    "\n",
    "- The ‘pad_sequences’ function takes the input_sequences list, sets the maximum length to ‘max_sequence_len’, and specifies that the padding should be added at the beginning of each sequence using the ‘padding=pre’ argument. \n",
    "- Finally, the input sequences are converted into a numpy array to facilitate further processing.\n",
    "\n",
    "Now let’s split the sequences into input and output:"
   ]
  },
  {
   "cell_type": "code",
   "execution_count": 5,
   "id": "f8cd123f",
   "metadata": {},
   "outputs": [],
   "source": [
    "X = input_sequences[:, :-1]\n",
    "y = input_sequences[:, -1]"
   ]
  },
  {
   "cell_type": "markdown",
   "id": "33a05490",
   "metadata": {},
   "source": [
    "- In the above code, the input sequences are split into two arrays, ‘X’ and ‘y’, to create the input and output for training the next word prediction model.\n",
    "- The ‘X’ array is assigned the values of all rows in the ‘input_sequences’ array except for the last column. \n",
    "- It means that ‘X’ contains all the tokens in each sequence except for the last one, representing the input context.\n",
    "\n",
    "\n",
    "- On the other hand, the ‘y’ array is assigned the values of the last column in the ‘input_sequences’ array, which represents the target or predicted word.\n",
    "\n",
    "Now let’s convert the output to one-hot encode vectors:"
   ]
  },
  {
   "cell_type": "code",
   "execution_count": 6,
   "id": "90ec95a6",
   "metadata": {},
   "outputs": [],
   "source": [
    "y = np.array(tf.keras.utils.to_categorical(y, num_classes=total_words))"
   ]
  },
  {
   "cell_type": "markdown",
   "id": "47d1ce44",
   "metadata": {},
   "source": [
    "- In the above code, we are converting the output array into a suitable format for training a model, where each target word is represented as a binary vector.\n",
    "\n",
    "Now let’s build a neural network architecture to train the model:"
   ]
  },
  {
   "cell_type": "code",
   "execution_count": 7,
   "id": "1140897a",
   "metadata": {},
   "outputs": [
    {
     "name": "stdout",
     "output_type": "stream",
     "text": [
      "Model: \"sequential\"\n",
      "_________________________________________________________________\n",
      " Layer (type)                Output Shape              Param #   \n",
      "=================================================================\n",
      " embedding (Embedding)       (None, 17, 100)           820000    \n",
      "                                                                 \n",
      " lstm (LSTM)                 (None, 150)               150600    \n",
      "                                                                 \n",
      " dense (Dense)               (None, 8200)              1238200   \n",
      "                                                                 \n",
      "=================================================================\n",
      "Total params: 2,208,800\n",
      "Trainable params: 2,208,800\n",
      "Non-trainable params: 0\n",
      "_________________________________________________________________\n",
      "None\n"
     ]
    }
   ],
   "source": [
    "model = Sequential()\n",
    "model.add(Embedding(total_words, 100, input_length=max_sequence_len-1))\n",
    "model.add(LSTM(150))\n",
    "model.add(Dense(total_words, activation='softmax'))\n",
    "print(model.summary())"
   ]
  },
  {
   "cell_type": "markdown",
   "id": "145b8eea",
   "metadata": {},
   "source": [
    "- The code above defines the model architecture for the next word prediction model. \n",
    "- The ‘Sequential’ model is created, which represents a linear stack of layers. \n",
    "- The first layer added to the model is the ‘Embedding’ layer, which is responsible for converting the input sequences into dense vectors of fixed size. It takes three arguments:\n",
    "\n",
    "1. ‘total_words’, which represents the total number of distinct words in the vocabulary; \n",
    "2. ‘100’, which denotes the dimensionality of the word embeddings; \n",
    "3. ‘input_length’, which specifies the length of the input sequences.\n",
    "\n",
    "- The next layer added is the ‘LSTM’ layer, a type of recurrent neural network (RNN) layer designed for capturing sequential dependencies in the data. It has 150 units, which means it will learn 150 internal representations or memory cells.\n",
    "\n",
    "- Finally, the ‘Dense’ layer is added, which is a fully connected layer that produces the output predictions. \n",
    "- It has ‘total_words’ units and uses the ‘softmax’ activation function to convert the predicted scores into probabilities, indicating the likelihood of each word being the next one in the sequence.\n",
    "\n",
    "Now let’s compile and train the model:"
   ]
  },
  {
   "cell_type": "code",
   "execution_count": 8,
   "id": "78d8ebc9",
   "metadata": {},
   "outputs": [
    {
     "name": "stdout",
     "output_type": "stream",
     "text": [
      "Epoch 1/5\n",
      "3010/3010 [==============================] - 246s 79ms/step - loss: 6.2392 - accuracy: 0.0762\n",
      "Epoch 2/5\n",
      "3010/3010 [==============================] - 282s 94ms/step - loss: 5.5042 - accuracy: 0.1247\n",
      "Epoch 3/5\n",
      "3010/3010 [==============================] - 272s 90ms/step - loss: 5.1189 - accuracy: 0.1472\n",
      "Epoch 4/5\n",
      "3010/3010 [==============================] - 218s 73ms/step - loss: 4.7975 - accuracy: 0.1644\n",
      "Epoch 5/5\n",
      "3010/3010 [==============================] - 220s 73ms/step - loss: 4.5003 - accuracy: 0.1828\n"
     ]
    },
    {
     "data": {
      "text/plain": [
       "<keras.callbacks.History at 0x159248378e0>"
      ]
     },
     "execution_count": 8,
     "metadata": {},
     "output_type": "execute_result"
    }
   ],
   "source": [
    "model.compile(loss='categorical_crossentropy', optimizer='adam', metrics=['accuracy'])\n",
    "model.fit(X, y, epochs=5, verbose=1)"
   ]
  },
  {
   "cell_type": "markdown",
   "id": "13e6ec9c",
   "metadata": {},
   "source": [
    "- In the above code, the model is being compiled and trained. \n",
    "- The ‘compile’ method configures the model for training.\n",
    "- The ‘loss’ parameter is set to ‘categorical_crossentropy’, a commonly used loss function for multi-class classification problems. \n",
    "- The ‘optimizer’ parameter is set to ‘adam’, an optimization algorithm that adapts the learning rate during training.\n",
    "\n",
    "\n",
    "- The ‘metrics’ parameter is set to ‘accuracy’ to monitor the accuracy during training.\n",
    "- After compiling the model, the ‘fit’ method is called to train the model on the input sequences ‘X’ and the corresponding output ‘y’. \n",
    "- The ‘epochs’ parameter specifies the number of times the training process will iterate over the entire dataset.\n",
    "- The ‘verbose’ parameter is set to ‘1’ to display the training process.\n",
    "\n",
    "The above code will take more than an hour to execute. Once the code is executed, here’s how we can generate the next word predictions using our model:"
   ]
  },
  {
   "cell_type": "code",
   "execution_count": 9,
   "id": "c26a4247",
   "metadata": {},
   "outputs": [
    {
     "name": "stdout",
     "output_type": "stream",
     "text": [
      "1/1 [==============================] - 3s 3s/step\n",
      "1/1 [==============================] - 0s 29ms/step\n",
      "1/1 [==============================] - 0s 30ms/step\n",
      "I will leave if they were in the\n"
     ]
    }
   ],
   "source": [
    "seed_text = \"I will leave if they\"\n",
    "next_words = 3\n",
    "\n",
    "for _ in range(next_words):\n",
    "    token_list = tokenizer.texts_to_sequences([seed_text])[0]\n",
    "    token_list = pad_sequences([token_list], maxlen=max_sequence_len-1, padding='pre')\n",
    "    predicted = np.argmax(model.predict(token_list), axis=-1)\n",
    "    output_word = \"\"\n",
    "    for word, index in tokenizer.word_index.items():\n",
    "        if index == predicted:\n",
    "            output_word = word\n",
    "            break\n",
    "    seed_text += \" \" + output_word\n",
    "\n",
    "print(seed_text)"
   ]
  },
  {
   "cell_type": "markdown",
   "id": "feff928d",
   "metadata": {},
   "source": [
    "- The above code generates the next word predictions based on a given seed text. \n",
    "- The ‘seed_text’ variable holds the initial text. \n",
    "- The ‘next_words’ variable determines the number of predictions to be generated. Inside the for loop, the ‘seed_text’ is converted into a sequence of tokens using the tokenizer. \n",
    "- The token sequence is padded to match the maximum sequence length.\n",
    "\n",
    "- The model predicts the next word by calling the ‘predict’ method on the model with the padded token sequence.\n",
    "- The predicted word is obtained by finding the word with the highest probability score using ‘np.argmax’. \n",
    "- Then, the predicted word is appended to the ‘seed_text’, and the process is repeated for the desired number of ‘next_words’.\n",
    "- Finally, the ‘seed_text’ is printed, which contains the initial text followed by the generated predictions.\n",
    "\n",
    "So this is how you can build a Next Word Prediction model using Deep Learning and Python programming language.\n",
    "\n"
   ]
  },
  {
   "cell_type": "code",
   "execution_count": null,
   "id": "d90299fa",
   "metadata": {},
   "outputs": [],
   "source": []
  }
 ],
 "metadata": {
  "kernelspec": {
   "display_name": "Python 3 (ipykernel)",
   "language": "python",
   "name": "python3"
  },
  "language_info": {
   "codemirror_mode": {
    "name": "ipython",
    "version": 3
   },
   "file_extension": ".py",
   "mimetype": "text/x-python",
   "name": "python",
   "nbconvert_exporter": "python",
   "pygments_lexer": "ipython3",
   "version": "3.9.16"
  }
 },
 "nbformat": 4,
 "nbformat_minor": 5
}
